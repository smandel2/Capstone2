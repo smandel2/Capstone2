{
 "cells": [
  {
   "cell_type": "markdown",
   "metadata": {},
   "source": [
    "## Capstone Part 2 - Campgrounds in the US. From https://ridb.recreation.gov/\n"
   ]
  },
  {
   "cell_type": "markdown",
   "metadata": {},
   "source": [
    "In my capstone project, I plan to do an analysis of the data and then model the data to predict reservations for various campsites.\n",
    "I plan to use EDA and various regression models\n",
    "One risk would be weather. If a year has very different weather than the prior year, this can result in the prediction being off.\n",
    "My initial goals, is to clean the data and run the complete analysis prior to modeling.\n",
    "I plan to do a train, test, split to test the data.\n",
    "In addition, I am taking a sample of the data at 1/100th of the initial amount for the dataset (2015)."
   ]
  },
  {
   "cell_type": "markdown",
   "metadata": {},
   "source": [
    "There are 3 dates in my dataset and I converted them to datetime format. OrderDate has no null values while StartDate and EndDate have a significant number of null values. I'm thinking I may base my predictions primarily on the OrderDate, but will see once I do EDA with the dates. Also, I plan to use the string time (strftime) for the dates."
   ]
  },
  {
   "cell_type": "code",
   "execution_count": 1,
   "metadata": {
    "collapsed": true
   },
   "outputs": [],
   "source": [
    "import pandas as pd\n",
    "import matplotlib.pyplot as plt\n",
    "%matplotlib inline\n",
    "import seaborn as sns\n"
   ]
  },
  {
   "cell_type": "code",
   "execution_count": 2,
   "metadata": {
    "collapsed": true
   },
   "outputs": [],
   "source": [
    "df15 = pd.read_csv('/Users/stevenmandel/Downloads/2015.csv',encoding='ISO-8859-1',error_bad_lines=False)"
   ]
  },
  {
   "cell_type": "code",
   "execution_count": 3,
   "metadata": {},
   "outputs": [
    {
     "data": {
      "text/html": [
       "<div>\n",
       "<style>\n",
       "    .dataframe thead tr:only-child th {\n",
       "        text-align: right;\n",
       "    }\n",
       "\n",
       "    .dataframe thead th {\n",
       "        text-align: left;\n",
       "    }\n",
       "\n",
       "    .dataframe tbody tr th {\n",
       "        vertical-align: top;\n",
       "    }\n",
       "</style>\n",
       "<table border=\"1\" class=\"dataframe\">\n",
       "  <thead>\n",
       "    <tr style=\"text-align: right;\">\n",
       "      <th></th>\n",
       "      <th>HistoricalReservationID</th>\n",
       "      <th>OrderNumber</th>\n",
       "      <th>Agency</th>\n",
       "      <th>OrgID</th>\n",
       "      <th>CodeHierarchy</th>\n",
       "      <th>RegionCode</th>\n",
       "      <th>RegionDescription</th>\n",
       "      <th>ParentLocationID</th>\n",
       "      <th>ParentLocation</th>\n",
       "      <th>LegacyFacilityID</th>\n",
       "      <th>...</th>\n",
       "      <th>Truck</th>\n",
       "      <th>Bus</th>\n",
       "      <th>Bicycle</th>\n",
       "      <th>Snowmobile</th>\n",
       "      <th>OffRoadlAllTerrainVehicle</th>\n",
       "      <th>PowerBoat</th>\n",
       "      <th>PickupCamper</th>\n",
       "      <th>LargeTentOver9x12</th>\n",
       "      <th>SmallTent</th>\n",
       "      <th>Marinaboat</th>\n",
       "    </tr>\n",
       "  </thead>\n",
       "  <tbody>\n",
       "    <tr>\n",
       "      <th>0</th>\n",
       "      <td>2019039433</td>\n",
       "      <td>2-32196786</td>\n",
       "      <td>USFS</td>\n",
       "      <td>131</td>\n",
       "      <td>|1|70903|74312|74395|74751|74197|</td>\n",
       "      <td>F40204</td>\n",
       "      <td>CASCADE RD</td>\n",
       "      <td>74395</td>\n",
       "      <td>BOISE NF - FS</td>\n",
       "      <td>74197</td>\n",
       "      <td>...</td>\n",
       "      <td>NaN</td>\n",
       "      <td>NaN</td>\n",
       "      <td>NaN</td>\n",
       "      <td>NaN</td>\n",
       "      <td>NaN</td>\n",
       "      <td>NaN</td>\n",
       "      <td>NaN</td>\n",
       "      <td>NaN</td>\n",
       "      <td>NaN</td>\n",
       "      <td>NaN</td>\n",
       "    </tr>\n",
       "    <tr>\n",
       "      <th>1</th>\n",
       "      <td>2019134646</td>\n",
       "      <td>2-32195127</td>\n",
       "      <td>USACE</td>\n",
       "      <td>130</td>\n",
       "      <td>|1|70902|74307|74362|74636|73388|</td>\n",
       "      <td>CM5002570</td>\n",
       "      <td>CANTON LAKE</td>\n",
       "      <td>74362</td>\n",
       "      <td>TULSA DISTRICT</td>\n",
       "      <td>73388</td>\n",
       "      <td>...</td>\n",
       "      <td>NaN</td>\n",
       "      <td>NaN</td>\n",
       "      <td>NaN</td>\n",
       "      <td>NaN</td>\n",
       "      <td>NaN</td>\n",
       "      <td>NaN</td>\n",
       "      <td>NaN</td>\n",
       "      <td>NaN</td>\n",
       "      <td>NaN</td>\n",
       "      <td>NaN</td>\n",
       "    </tr>\n",
       "    <tr>\n",
       "      <th>2</th>\n",
       "      <td>2019134722</td>\n",
       "      <td>6-2494838</td>\n",
       "      <td>USFS</td>\n",
       "      <td>131</td>\n",
       "      <td>|1|70903|72602|74407|74797|109033|</td>\n",
       "      <td>F50253</td>\n",
       "      <td>PALOMAR RD - FS</td>\n",
       "      <td>74407</td>\n",
       "      <td>CLEVELAND NF - FS</td>\n",
       "      <td>109033</td>\n",
       "      <td>...</td>\n",
       "      <td>NaN</td>\n",
       "      <td>NaN</td>\n",
       "      <td>NaN</td>\n",
       "      <td>NaN</td>\n",
       "      <td>NaN</td>\n",
       "      <td>NaN</td>\n",
       "      <td>NaN</td>\n",
       "      <td>NaN</td>\n",
       "      <td>NaN</td>\n",
       "      <td>NaN</td>\n",
       "    </tr>\n",
       "    <tr>\n",
       "      <th>3</th>\n",
       "      <td>2068426196</td>\n",
       "      <td>3-3347118</td>\n",
       "      <td>USACE</td>\n",
       "      <td>130</td>\n",
       "      <td>|1|70902|74307|74360|74612|71505|</td>\n",
       "      <td>CM2075357</td>\n",
       "      <td>GRANGER LAKE</td>\n",
       "      <td>74360</td>\n",
       "      <td>FORT WORTH DIST.</td>\n",
       "      <td>71505</td>\n",
       "      <td>...</td>\n",
       "      <td>NaN</td>\n",
       "      <td>NaN</td>\n",
       "      <td>NaN</td>\n",
       "      <td>NaN</td>\n",
       "      <td>NaN</td>\n",
       "      <td>NaN</td>\n",
       "      <td>NaN</td>\n",
       "      <td>NaN</td>\n",
       "      <td>NaN</td>\n",
       "      <td>NaN</td>\n",
       "    </tr>\n",
       "    <tr>\n",
       "      <th>4</th>\n",
       "      <td>2068426206</td>\n",
       "      <td>6-2611957</td>\n",
       "      <td>USFS</td>\n",
       "      <td>131</td>\n",
       "      <td>|1|70903|72602|74407|74797|109033|</td>\n",
       "      <td>F50253</td>\n",
       "      <td>PALOMAR RD - FS</td>\n",
       "      <td>74407</td>\n",
       "      <td>CLEVELAND NF - FS</td>\n",
       "      <td>109033</td>\n",
       "      <td>...</td>\n",
       "      <td>NaN</td>\n",
       "      <td>NaN</td>\n",
       "      <td>NaN</td>\n",
       "      <td>NaN</td>\n",
       "      <td>NaN</td>\n",
       "      <td>NaN</td>\n",
       "      <td>NaN</td>\n",
       "      <td>NaN</td>\n",
       "      <td>NaN</td>\n",
       "      <td>NaN</td>\n",
       "    </tr>\n",
       "  </tbody>\n",
       "</table>\n",
       "<p>5 rows × 56 columns</p>\n",
       "</div>"
      ],
      "text/plain": [
       "   HistoricalReservationID OrderNumber Agency  OrgID  \\\n",
       "0               2019039433  2-32196786   USFS    131   \n",
       "1               2019134646  2-32195127  USACE    130   \n",
       "2               2019134722   6-2494838   USFS    131   \n",
       "3               2068426196   3-3347118  USACE    130   \n",
       "4               2068426206   6-2611957   USFS    131   \n",
       "\n",
       "                        CodeHierarchy RegionCode RegionDescription  \\\n",
       "0   |1|70903|74312|74395|74751|74197|     F40204        CASCADE RD   \n",
       "1   |1|70902|74307|74362|74636|73388|  CM5002570       CANTON LAKE   \n",
       "2  |1|70903|72602|74407|74797|109033|     F50253   PALOMAR RD - FS   \n",
       "3   |1|70902|74307|74360|74612|71505|  CM2075357      GRANGER LAKE   \n",
       "4  |1|70903|72602|74407|74797|109033|     F50253   PALOMAR RD - FS   \n",
       "\n",
       "   ParentLocationID     ParentLocation  LegacyFacilityID     ...     Truck  \\\n",
       "0             74395      BOISE NF - FS             74197     ...       NaN   \n",
       "1             74362     TULSA DISTRICT             73388     ...       NaN   \n",
       "2             74407  CLEVELAND NF - FS            109033     ...       NaN   \n",
       "3             74360   FORT WORTH DIST.             71505     ...       NaN   \n",
       "4             74407  CLEVELAND NF - FS            109033     ...       NaN   \n",
       "\n",
       "  Bus Bicycle  Snowmobile OffRoadlAllTerrainVehicle  PowerBoat  PickupCamper  \\\n",
       "0 NaN     NaN         NaN                       NaN        NaN           NaN   \n",
       "1 NaN     NaN         NaN                       NaN        NaN           NaN   \n",
       "2 NaN     NaN         NaN                       NaN        NaN           NaN   \n",
       "3 NaN     NaN         NaN                       NaN        NaN           NaN   \n",
       "4 NaN     NaN         NaN                       NaN        NaN           NaN   \n",
       "\n",
       "  LargeTentOver9x12 SmallTent  Marinaboat  \n",
       "0               NaN       NaN         NaN  \n",
       "1               NaN       NaN         NaN  \n",
       "2               NaN       NaN         NaN  \n",
       "3               NaN       NaN         NaN  \n",
       "4               NaN       NaN         NaN  \n",
       "\n",
       "[5 rows x 56 columns]"
      ]
     },
     "execution_count": 3,
     "metadata": {},
     "output_type": "execute_result"
    }
   ],
   "source": [
    "df15.head()"
   ]
  },
  {
   "cell_type": "code",
   "execution_count": 4,
   "metadata": {},
   "outputs": [
    {
     "data": {
      "text/plain": [
       "(2949219, 56)"
      ]
     },
     "execution_count": 4,
     "metadata": {},
     "output_type": "execute_result"
    }
   ],
   "source": [
    "df15.shape"
   ]
  },
  {
   "cell_type": "code",
   "execution_count": 5,
   "metadata": {
    "collapsed": true
   },
   "outputs": [],
   "source": [
    "df15s = df15.sample(frac=.01)"
   ]
  },
  {
   "cell_type": "code",
   "execution_count": 6,
   "metadata": {},
   "outputs": [
    {
     "data": {
      "text/plain": [
       "(29492, 56)"
      ]
     },
     "execution_count": 6,
     "metadata": {},
     "output_type": "execute_result"
    }
   ],
   "source": [
    "df15s.shape"
   ]
  },
  {
   "cell_type": "code",
   "execution_count": 7,
   "metadata": {},
   "outputs": [
    {
     "name": "stdout",
     "output_type": "stream",
     "text": [
      "<class 'pandas.core.frame.DataFrame'>\n",
      "Int64Index: 29492 entries, 1314168 to 2858392\n",
      "Data columns (total 56 columns):\n",
      "HistoricalReservationID      29492 non-null int64\n",
      "OrderNumber                  29492 non-null object\n",
      "Agency                       29356 non-null object\n",
      "OrgID                        29492 non-null int64\n",
      "CodeHierarchy                29492 non-null object\n",
      "RegionCode                   29492 non-null object\n",
      "RegionDescription            29492 non-null object\n",
      "ParentLocationID             29492 non-null int64\n",
      "ParentLocation               29492 non-null object\n",
      "LegacyFacilityID             29492 non-null int64\n",
      "Park                         29492 non-null object\n",
      "SiteType                     29492 non-null object\n",
      "UseType                      29492 non-null object\n",
      "ProductID                    29492 non-null int64\n",
      "EntityType                   29492 non-null object\n",
      "EntityID                     24176 non-null float64\n",
      "FacilityID                   28363 non-null float64\n",
      "FacilityZIP                  12959 non-null object\n",
      "FacilityState                28371 non-null object\n",
      "FacilityLongitude            28371 non-null float64\n",
      "FacilityLatitude             28371 non-null float64\n",
      "CustomerZIP                  29419 non-null object\n",
      "CustomerState                29397 non-null object\n",
      "CustomerCountry              29492 non-null object\n",
      "Tax                          29492 non-null float64\n",
      "UseFee                       29492 non-null float64\n",
      "TranFee                      29492 non-null float64\n",
      "AttrFee                      29492 non-null float64\n",
      "TotalBeforeTax               29492 non-null float64\n",
      "TotalPaid                    29492 non-null float64\n",
      "StartDate                    24651 non-null object\n",
      "EndDate                      19758 non-null object\n",
      "OrderDate                    29492 non-null object\n",
      "NumberOfPeople               29492 non-null int64\n",
      "Tent                         6422 non-null float64\n",
      "Popup                        719 non-null float64\n",
      "Trailer                      3115 non-null float64\n",
      "RVMotorhome                  2074 non-null float64\n",
      "Boat                         3 non-null float64\n",
      "HorseTrailer                 0 non-null float64\n",
      "Car                          0 non-null float64\n",
      "FifthWheel                   1356 non-null float64\n",
      "Van                          385 non-null float64\n",
      "CanoeKayak                   0 non-null float64\n",
      "BoatTrailer                  0 non-null float64\n",
      "Motorcycle                   0 non-null float64\n",
      "Truck                        0 non-null float64\n",
      "Bus                          0 non-null float64\n",
      "Bicycle                      0 non-null float64\n",
      "Snowmobile                   0 non-null float64\n",
      "OffRoadlAllTerrainVehicle    0 non-null float64\n",
      "PowerBoat                    0 non-null float64\n",
      "PickupCamper                 275 non-null float64\n",
      "LargeTentOver9x12            146 non-null float64\n",
      "SmallTent                    133 non-null float64\n",
      "Marinaboat                   0 non-null float64\n",
      "dtypes: float64(32), int64(6), object(18)\n",
      "memory usage: 12.8+ MB\n"
     ]
    }
   ],
   "source": [
    "df15s.info()"
   ]
  },
  {
   "cell_type": "code",
   "execution_count": 8,
   "metadata": {},
   "outputs": [
    {
     "data": {
      "text/html": [
       "<div>\n",
       "<style>\n",
       "    .dataframe thead tr:only-child th {\n",
       "        text-align: right;\n",
       "    }\n",
       "\n",
       "    .dataframe thead th {\n",
       "        text-align: left;\n",
       "    }\n",
       "\n",
       "    .dataframe tbody tr th {\n",
       "        vertical-align: top;\n",
       "    }\n",
       "</style>\n",
       "<table border=\"1\" class=\"dataframe\">\n",
       "  <thead>\n",
       "    <tr style=\"text-align: right;\">\n",
       "      <th></th>\n",
       "      <th>HistoricalReservationID</th>\n",
       "      <th>OrgID</th>\n",
       "      <th>ParentLocationID</th>\n",
       "      <th>LegacyFacilityID</th>\n",
       "      <th>ProductID</th>\n",
       "      <th>EntityID</th>\n",
       "      <th>FacilityID</th>\n",
       "      <th>FacilityLongitude</th>\n",
       "      <th>FacilityLatitude</th>\n",
       "      <th>Tax</th>\n",
       "      <th>...</th>\n",
       "      <th>Truck</th>\n",
       "      <th>Bus</th>\n",
       "      <th>Bicycle</th>\n",
       "      <th>Snowmobile</th>\n",
       "      <th>OffRoadlAllTerrainVehicle</th>\n",
       "      <th>PowerBoat</th>\n",
       "      <th>PickupCamper</th>\n",
       "      <th>LargeTentOver9x12</th>\n",
       "      <th>SmallTent</th>\n",
       "      <th>Marinaboat</th>\n",
       "    </tr>\n",
       "  </thead>\n",
       "  <tbody>\n",
       "    <tr>\n",
       "      <th>count</th>\n",
       "      <td>2.949200e+04</td>\n",
       "      <td>29492.000000</td>\n",
       "      <td>29492.000000</td>\n",
       "      <td>29492.000000</td>\n",
       "      <td>29492.000000</td>\n",
       "      <td>24176.000000</td>\n",
       "      <td>28363.000000</td>\n",
       "      <td>28371.000000</td>\n",
       "      <td>28371.000000</td>\n",
       "      <td>29492.000000</td>\n",
       "      <td>...</td>\n",
       "      <td>0.0</td>\n",
       "      <td>0.0</td>\n",
       "      <td>0.0</td>\n",
       "      <td>0.0</td>\n",
       "      <td>0.0</td>\n",
       "      <td>0.0</td>\n",
       "      <td>275.0</td>\n",
       "      <td>146.000000</td>\n",
       "      <td>133.0</td>\n",
       "      <td>0.0</td>\n",
       "    </tr>\n",
       "    <tr>\n",
       "      <th>mean</th>\n",
       "      <td>1.924479e+09</td>\n",
       "      <td>133.244778</td>\n",
       "      <td>71434.083785</td>\n",
       "      <td>73474.959277</td>\n",
       "      <td>209510.453208</td>\n",
       "      <td>34969.555303</td>\n",
       "      <td>234668.247294</td>\n",
       "      <td>-101.183398</td>\n",
       "      <td>37.736851</td>\n",
       "      <td>0.122197</td>\n",
       "      <td>...</td>\n",
       "      <td>NaN</td>\n",
       "      <td>NaN</td>\n",
       "      <td>NaN</td>\n",
       "      <td>NaN</td>\n",
       "      <td>NaN</td>\n",
       "      <td>NaN</td>\n",
       "      <td>1.0</td>\n",
       "      <td>1.047945</td>\n",
       "      <td>1.0</td>\n",
       "      <td>NaN</td>\n",
       "    </tr>\n",
       "    <tr>\n",
       "      <th>std</th>\n",
       "      <td>9.129736e+07</td>\n",
       "      <td>17.267341</td>\n",
       "      <td>14097.466576</td>\n",
       "      <td>18715.978447</td>\n",
       "      <td>117196.005545</td>\n",
       "      <td>32246.615221</td>\n",
       "      <td>4836.167493</td>\n",
       "      <td>19.556784</td>\n",
       "      <td>5.460383</td>\n",
       "      <td>1.446280</td>\n",
       "      <td>...</td>\n",
       "      <td>NaN</td>\n",
       "      <td>NaN</td>\n",
       "      <td>NaN</td>\n",
       "      <td>NaN</td>\n",
       "      <td>NaN</td>\n",
       "      <td>NaN</td>\n",
       "      <td>0.0</td>\n",
       "      <td>0.358776</td>\n",
       "      <td>0.0</td>\n",
       "      <td>NaN</td>\n",
       "    </tr>\n",
       "    <tr>\n",
       "      <th>min</th>\n",
       "      <td>1.759920e+09</td>\n",
       "      <td>126.000000</td>\n",
       "      <td>1.000000</td>\n",
       "      <td>801.000000</td>\n",
       "      <td>64.000000</td>\n",
       "      <td>1.000000</td>\n",
       "      <td>231831.000000</td>\n",
       "      <td>-157.953000</td>\n",
       "      <td>20.709700</td>\n",
       "      <td>0.000000</td>\n",
       "      <td>...</td>\n",
       "      <td>NaN</td>\n",
       "      <td>NaN</td>\n",
       "      <td>NaN</td>\n",
       "      <td>NaN</td>\n",
       "      <td>NaN</td>\n",
       "      <td>NaN</td>\n",
       "      <td>1.0</td>\n",
       "      <td>1.000000</td>\n",
       "      <td>1.0</td>\n",
       "      <td>NaN</td>\n",
       "    </tr>\n",
       "    <tr>\n",
       "      <th>25%</th>\n",
       "      <td>1.843733e+09</td>\n",
       "      <td>128.000000</td>\n",
       "      <td>74315.000000</td>\n",
       "      <td>70973.000000</td>\n",
       "      <td>115730.750000</td>\n",
       "      <td>1060.000000</td>\n",
       "      <td>232528.000000</td>\n",
       "      <td>-118.292000</td>\n",
       "      <td>35.602500</td>\n",
       "      <td>0.000000</td>\n",
       "      <td>...</td>\n",
       "      <td>NaN</td>\n",
       "      <td>NaN</td>\n",
       "      <td>NaN</td>\n",
       "      <td>NaN</td>\n",
       "      <td>NaN</td>\n",
       "      <td>NaN</td>\n",
       "      <td>1.0</td>\n",
       "      <td>1.000000</td>\n",
       "      <td>1.0</td>\n",
       "      <td>NaN</td>\n",
       "    </tr>\n",
       "    <tr>\n",
       "      <th>50%</th>\n",
       "      <td>1.929606e+09</td>\n",
       "      <td>130.000000</td>\n",
       "      <td>74338.000000</td>\n",
       "      <td>72280.000000</td>\n",
       "      <td>205476.000000</td>\n",
       "      <td>29120.000000</td>\n",
       "      <td>233338.000000</td>\n",
       "      <td>-96.497600</td>\n",
       "      <td>37.606900</td>\n",
       "      <td>0.000000</td>\n",
       "      <td>...</td>\n",
       "      <td>NaN</td>\n",
       "      <td>NaN</td>\n",
       "      <td>NaN</td>\n",
       "      <td>NaN</td>\n",
       "      <td>NaN</td>\n",
       "      <td>NaN</td>\n",
       "      <td>1.0</td>\n",
       "      <td>1.000000</td>\n",
       "      <td>1.0</td>\n",
       "      <td>NaN</td>\n",
       "    </tr>\n",
       "    <tr>\n",
       "      <th>75%</th>\n",
       "      <td>2.003005e+09</td>\n",
       "      <td>131.000000</td>\n",
       "      <td>74361.000000</td>\n",
       "      <td>73825.250000</td>\n",
       "      <td>307607.000000</td>\n",
       "      <td>64279.500000</td>\n",
       "      <td>234043.000000</td>\n",
       "      <td>-85.908900</td>\n",
       "      <td>39.590250</td>\n",
       "      <td>0.000000</td>\n",
       "      <td>...</td>\n",
       "      <td>NaN</td>\n",
       "      <td>NaN</td>\n",
       "      <td>NaN</td>\n",
       "      <td>NaN</td>\n",
       "      <td>NaN</td>\n",
       "      <td>NaN</td>\n",
       "      <td>1.0</td>\n",
       "      <td>1.000000</td>\n",
       "      <td>1.0</td>\n",
       "      <td>NaN</td>\n",
       "    </tr>\n",
       "    <tr>\n",
       "      <th>max</th>\n",
       "      <td>2.077427e+09</td>\n",
       "      <td>216.000000</td>\n",
       "      <td>151323.000000</td>\n",
       "      <td>151325.000000</td>\n",
       "      <td>408120.000000</td>\n",
       "      <td>97480.000000</td>\n",
       "      <td>251745.000000</td>\n",
       "      <td>113.981000</td>\n",
       "      <td>63.736600</td>\n",
       "      <td>86.690000</td>\n",
       "      <td>...</td>\n",
       "      <td>NaN</td>\n",
       "      <td>NaN</td>\n",
       "      <td>NaN</td>\n",
       "      <td>NaN</td>\n",
       "      <td>NaN</td>\n",
       "      <td>NaN</td>\n",
       "      <td>1.0</td>\n",
       "      <td>5.000000</td>\n",
       "      <td>1.0</td>\n",
       "      <td>NaN</td>\n",
       "    </tr>\n",
       "  </tbody>\n",
       "</table>\n",
       "<p>8 rows × 38 columns</p>\n",
       "</div>"
      ],
      "text/plain": [
       "       HistoricalReservationID         OrgID  ParentLocationID  \\\n",
       "count             2.949200e+04  29492.000000      29492.000000   \n",
       "mean              1.924479e+09    133.244778      71434.083785   \n",
       "std               9.129736e+07     17.267341      14097.466576   \n",
       "min               1.759920e+09    126.000000          1.000000   \n",
       "25%               1.843733e+09    128.000000      74315.000000   \n",
       "50%               1.929606e+09    130.000000      74338.000000   \n",
       "75%               2.003005e+09    131.000000      74361.000000   \n",
       "max               2.077427e+09    216.000000     151323.000000   \n",
       "\n",
       "       LegacyFacilityID      ProductID      EntityID     FacilityID  \\\n",
       "count      29492.000000   29492.000000  24176.000000   28363.000000   \n",
       "mean       73474.959277  209510.453208  34969.555303  234668.247294   \n",
       "std        18715.978447  117196.005545  32246.615221    4836.167493   \n",
       "min          801.000000      64.000000      1.000000  231831.000000   \n",
       "25%        70973.000000  115730.750000   1060.000000  232528.000000   \n",
       "50%        72280.000000  205476.000000  29120.000000  233338.000000   \n",
       "75%        73825.250000  307607.000000  64279.500000  234043.000000   \n",
       "max       151325.000000  408120.000000  97480.000000  251745.000000   \n",
       "\n",
       "       FacilityLongitude  FacilityLatitude           Tax     ...      Truck  \\\n",
       "count       28371.000000      28371.000000  29492.000000     ...        0.0   \n",
       "mean         -101.183398         37.736851      0.122197     ...        NaN   \n",
       "std            19.556784          5.460383      1.446280     ...        NaN   \n",
       "min          -157.953000         20.709700      0.000000     ...        NaN   \n",
       "25%          -118.292000         35.602500      0.000000     ...        NaN   \n",
       "50%           -96.497600         37.606900      0.000000     ...        NaN   \n",
       "75%           -85.908900         39.590250      0.000000     ...        NaN   \n",
       "max           113.981000         63.736600     86.690000     ...        NaN   \n",
       "\n",
       "       Bus  Bicycle  Snowmobile  OffRoadlAllTerrainVehicle  PowerBoat  \\\n",
       "count  0.0      0.0         0.0                        0.0        0.0   \n",
       "mean   NaN      NaN         NaN                        NaN        NaN   \n",
       "std    NaN      NaN         NaN                        NaN        NaN   \n",
       "min    NaN      NaN         NaN                        NaN        NaN   \n",
       "25%    NaN      NaN         NaN                        NaN        NaN   \n",
       "50%    NaN      NaN         NaN                        NaN        NaN   \n",
       "75%    NaN      NaN         NaN                        NaN        NaN   \n",
       "max    NaN      NaN         NaN                        NaN        NaN   \n",
       "\n",
       "       PickupCamper  LargeTentOver9x12  SmallTent  Marinaboat  \n",
       "count         275.0         146.000000      133.0         0.0  \n",
       "mean            1.0           1.047945        1.0         NaN  \n",
       "std             0.0           0.358776        0.0         NaN  \n",
       "min             1.0           1.000000        1.0         NaN  \n",
       "25%             1.0           1.000000        1.0         NaN  \n",
       "50%             1.0           1.000000        1.0         NaN  \n",
       "75%             1.0           1.000000        1.0         NaN  \n",
       "max             1.0           5.000000        1.0         NaN  \n",
       "\n",
       "[8 rows x 38 columns]"
      ]
     },
     "execution_count": 8,
     "metadata": {},
     "output_type": "execute_result"
    }
   ],
   "source": [
    "df15s.describe()"
   ]
  },
  {
   "cell_type": "code",
   "execution_count": 9,
   "metadata": {},
   "outputs": [
    {
     "data": {
      "text/plain": [
       "Index(['HistoricalReservationID', 'OrderNumber', 'Agency', 'OrgID',\n",
       "       'CodeHierarchy', 'RegionCode', 'RegionDescription', 'ParentLocationID',\n",
       "       'ParentLocation', 'LegacyFacilityID', 'Park', 'SiteType', 'UseType',\n",
       "       'ProductID', 'EntityType', 'EntityID', 'FacilityID', 'FacilityZIP',\n",
       "       'FacilityState', 'FacilityLongitude', 'FacilityLatitude', 'CustomerZIP',\n",
       "       'CustomerState', 'CustomerCountry', 'Tax', 'UseFee', 'TranFee',\n",
       "       'AttrFee', 'TotalBeforeTax', 'TotalPaid', 'StartDate', 'EndDate',\n",
       "       'OrderDate', 'NumberOfPeople', 'Tent', 'Popup', 'Trailer',\n",
       "       'RVMotorhome', 'Boat', 'HorseTrailer', 'Car', 'FifthWheel', 'Van',\n",
       "       'CanoeKayak', 'BoatTrailer', 'Motorcycle', 'Truck', 'Bus', 'Bicycle',\n",
       "       'Snowmobile', 'OffRoadlAllTerrainVehicle', 'PowerBoat', 'PickupCamper',\n",
       "       'LargeTentOver9x12', 'SmallTent', 'Marinaboat'],\n",
       "      dtype='object')"
      ]
     },
     "execution_count": 9,
     "metadata": {},
     "output_type": "execute_result"
    }
   ],
   "source": [
    "df15s.columns"
   ]
  },
  {
   "cell_type": "code",
   "execution_count": 10,
   "metadata": {
    "collapsed": true
   },
   "outputs": [],
   "source": [
    "null = df15s.isnull().sum()"
   ]
  },
  {
   "cell_type": "code",
   "execution_count": 11,
   "metadata": {},
   "outputs": [
    {
     "data": {
      "text/plain": [
       "Agency                         136\n",
       "EntityID                      5316\n",
       "FacilityID                    1129\n",
       "FacilityZIP                  16533\n",
       "FacilityState                 1121\n",
       "FacilityLongitude             1121\n",
       "FacilityLatitude              1121\n",
       "CustomerZIP                     73\n",
       "CustomerState                   95\n",
       "StartDate                     4841\n",
       "EndDate                       9734\n",
       "Tent                         23070\n",
       "Popup                        28773\n",
       "Trailer                      26377\n",
       "RVMotorhome                  27418\n",
       "Boat                         29489\n",
       "HorseTrailer                 29492\n",
       "Car                          29492\n",
       "FifthWheel                   28136\n",
       "Van                          29107\n",
       "CanoeKayak                   29492\n",
       "BoatTrailer                  29492\n",
       "Motorcycle                   29492\n",
       "Truck                        29492\n",
       "Bus                          29492\n",
       "Bicycle                      29492\n",
       "Snowmobile                   29492\n",
       "OffRoadlAllTerrainVehicle    29492\n",
       "PowerBoat                    29492\n",
       "PickupCamper                 29217\n",
       "LargeTentOver9x12            29346\n",
       "SmallTent                    29359\n",
       "Marinaboat                   29492\n",
       "dtype: int64"
      ]
     },
     "execution_count": 11,
     "metadata": {},
     "output_type": "execute_result"
    }
   ],
   "source": [
    "null[null!= 0]\n",
    "# This is a list of all columns with null values"
   ]
  },
  {
   "cell_type": "code",
   "execution_count": 13,
   "metadata": {},
   "outputs": [
    {
     "data": {
      "text/plain": [
       "HistoricalReservationID        int64\n",
       "OrderNumber                   object\n",
       "Agency                        object\n",
       "OrgID                          int64\n",
       "CodeHierarchy                 object\n",
       "RegionCode                    object\n",
       "RegionDescription             object\n",
       "ParentLocationID               int64\n",
       "ParentLocation                object\n",
       "LegacyFacilityID               int64\n",
       "Park                          object\n",
       "SiteType                      object\n",
       "UseType                       object\n",
       "ProductID                      int64\n",
       "EntityType                    object\n",
       "EntityID                     float64\n",
       "FacilityID                   float64\n",
       "FacilityZIP                   object\n",
       "FacilityState                 object\n",
       "FacilityLongitude            float64\n",
       "FacilityLatitude             float64\n",
       "CustomerZIP                   object\n",
       "CustomerState                 object\n",
       "CustomerCountry               object\n",
       "Tax                          float64\n",
       "UseFee                       float64\n",
       "TranFee                      float64\n",
       "AttrFee                      float64\n",
       "TotalBeforeTax               float64\n",
       "TotalPaid                    float64\n",
       "StartDate                     object\n",
       "EndDate                       object\n",
       "OrderDate                     object\n",
       "NumberOfPeople                 int64\n",
       "Tent                         float64\n",
       "Popup                        float64\n",
       "Trailer                      float64\n",
       "RVMotorhome                  float64\n",
       "Boat                         float64\n",
       "HorseTrailer                 float64\n",
       "Car                          float64\n",
       "FifthWheel                   float64\n",
       "Van                          float64\n",
       "CanoeKayak                   float64\n",
       "BoatTrailer                  float64\n",
       "Motorcycle                   float64\n",
       "Truck                        float64\n",
       "Bus                          float64\n",
       "Bicycle                      float64\n",
       "Snowmobile                   float64\n",
       "OffRoadlAllTerrainVehicle    float64\n",
       "PowerBoat                    float64\n",
       "PickupCamper                 float64\n",
       "LargeTentOver9x12            float64\n",
       "SmallTent                    float64\n",
       "Marinaboat                   float64\n",
       "dtype: object"
      ]
     },
     "execution_count": 13,
     "metadata": {},
     "output_type": "execute_result"
    }
   ],
   "source": [
    "df15s.dtypes"
   ]
  },
  {
   "cell_type": "code",
   "execution_count": 14,
   "metadata": {},
   "outputs": [
    {
     "data": {
      "text/html": [
       "<div>\n",
       "<style>\n",
       "    .dataframe thead tr:only-child th {\n",
       "        text-align: right;\n",
       "    }\n",
       "\n",
       "    .dataframe thead th {\n",
       "        text-align: left;\n",
       "    }\n",
       "\n",
       "    .dataframe tbody tr th {\n",
       "        vertical-align: top;\n",
       "    }\n",
       "</style>\n",
       "<table border=\"1\" class=\"dataframe\">\n",
       "  <thead>\n",
       "    <tr style=\"text-align: right;\">\n",
       "      <th></th>\n",
       "      <th>OrderDate</th>\n",
       "    </tr>\n",
       "  </thead>\n",
       "  <tbody>\n",
       "    <tr>\n",
       "      <th>1314168</th>\n",
       "      <td>2014-11-09</td>\n",
       "    </tr>\n",
       "    <tr>\n",
       "      <th>2252304</th>\n",
       "      <td>2015-06-07</td>\n",
       "    </tr>\n",
       "    <tr>\n",
       "      <th>629946</th>\n",
       "      <td>2015-07-02</td>\n",
       "    </tr>\n",
       "    <tr>\n",
       "      <th>1718220</th>\n",
       "      <td>2015-04-23</td>\n",
       "    </tr>\n",
       "    <tr>\n",
       "      <th>288592</th>\n",
       "      <td>2015-02-23</td>\n",
       "    </tr>\n",
       "  </tbody>\n",
       "</table>\n",
       "</div>"
      ],
      "text/plain": [
       "          OrderDate\n",
       "1314168  2014-11-09\n",
       "2252304  2015-06-07\n",
       "629946   2015-07-02\n",
       "1718220  2015-04-23\n",
       "288592   2015-02-23"
      ]
     },
     "execution_count": 14,
     "metadata": {},
     "output_type": "execute_result"
    }
   ],
   "source": [
    "df15s[['OrderDate']].head()"
   ]
  },
  {
   "cell_type": "code",
   "execution_count": 66,
   "metadata": {},
   "outputs": [
    {
     "data": {
      "text/plain": [
       "1314168   2014-11-09\n",
       "2252304   2015-06-07\n",
       "629946    2015-07-02\n",
       "1718220   2015-04-23\n",
       "288592    2015-02-23\n",
       "Name: OrderDate, dtype: datetime64[ns]"
      ]
     },
     "execution_count": 66,
     "metadata": {},
     "output_type": "execute_result"
    }
   ],
   "source": [
    "df15s['OrderDate'] = pd.to_datetime(df15s['OrderDate'])\n",
    "df15s['OrderDate'].head() # convert dates to date time type"
   ]
  },
  {
   "cell_type": "code",
   "execution_count": 17,
   "metadata": {},
   "outputs": [
    {
     "data": {
      "text/plain": [
       "1314168   2014-11-10\n",
       "2252304   2015-06-07\n",
       "629946    2015-07-03\n",
       "1718220   2015-04-23\n",
       "288592    2015-09-06\n",
       "Name: StartDate, dtype: datetime64[ns]"
      ]
     },
     "execution_count": 17,
     "metadata": {},
     "output_type": "execute_result"
    }
   ],
   "source": [
    "df15s['StartDate'] = pd.to_datetime(df15s['StartDate'])\n",
    "df15s['StartDate'].head()"
   ]
  },
  {
   "cell_type": "code",
   "execution_count": 18,
   "metadata": {},
   "outputs": [
    {
     "data": {
      "text/plain": [
       "1314168          NaT\n",
       "2252304   2015-06-08\n",
       "629946    2015-07-06\n",
       "1718220   2015-04-26\n",
       "288592    2015-09-06\n",
       "Name: EndDate, dtype: datetime64[ns]"
      ]
     },
     "execution_count": 18,
     "metadata": {},
     "output_type": "execute_result"
    }
   ],
   "source": [
    "df15s['EndDate'] = pd.to_datetime(df15s['EndDate'])\n",
    "df15s['EndDate'].head()"
   ]
  },
  {
   "cell_type": "code",
   "execution_count": 36,
   "metadata": {},
   "outputs": [
    {
     "data": {
      "text/plain": [
       "0   NaT\n",
       "dtype: datetime64[ns]"
      ]
     },
     "execution_count": 36,
     "metadata": {},
     "output_type": "execute_result"
    }
   ],
   "source": [
    "df15s['StartDate'].mode()"
   ]
  },
  {
   "cell_type": "code",
   "execution_count": 35,
   "metadata": {},
   "outputs": [
    {
     "data": {
      "text/plain": [
       "0   NaT\n",
       "dtype: datetime64[ns]"
      ]
     },
     "execution_count": 35,
     "metadata": {},
     "output_type": "execute_result"
    }
   ],
   "source": [
    "df15s['EndDate'].mode()"
   ]
  },
  {
   "cell_type": "code",
   "execution_count": 37,
   "metadata": {},
   "outputs": [
    {
     "data": {
      "text/plain": [
       "0    2015-02-24\n",
       "dtype: object"
      ]
     },
     "execution_count": 37,
     "metadata": {},
     "output_type": "execute_result"
    }
   ],
   "source": [
    "df15s['OrderDate'].mode()"
   ]
  },
  {
   "cell_type": "code",
   "execution_count": 71,
   "metadata": {},
   "outputs": [
    {
     "data": {
      "text/plain": [
       "<matplotlib.axes._subplots.AxesSubplot at 0x11b79b4a8>"
      ]
     },
     "execution_count": 71,
     "metadata": {},
     "output_type": "execute_result"
    },
    {
     "data": {
      "image/png": "[encoded data removed]",
      "text/plain": [
       "<matplotlib.figure.Figure at 0x11b7e4048>"
      ]
     },
     "metadata": {},
     "output_type": "display_data"
    }
   ],
   "source": [
    "fig_size = plt.rcParams['figure.figsize']\n",
    "var = df15s[['TotalPaid','FacilityState']].groupby('FacilityState').TotalPaid.sum()\n",
    "fig = plt.figure()\n",
    "fig_size[0] = 15\n",
    "fig_size[1] = 12\n",
    "ax1 = fig.add_subplot(1,1,1,)\n",
    "ax1.set_xlabel('Facility State')\n",
    "ax1.set_ylabel('Total Sales')\n",
    "ax1.set_title('Total Campground Sales by Facility State')\n",
    "var.plot(kind = 'bar')"
   ]
  },
  {
   "cell_type": "code",
   "execution_count": null,
   "metadata": {
    "collapsed": true
   },
   "outputs": [],
   "source": [
    "df15s.groupby('CustomerCountry')['TotalPaid'].mean().sort_values(ascending=False).head(10).plot(kind='bar')"
   ]
  },
  {
   "cell_type": "code",
   "execution_count": 64,
   "metadata": {},
   "outputs": [
    {
     "data": {
      "text/plain": [
       "<matplotlib.axes._subplots.AxesSubplot at 0x11e4f7d30>"
      ]
     },
     "execution_count": 64,
     "metadata": {},
     "output_type": "execute_result"
    },
    {
     "data": {
      "image/png": "[encoded data removed]",
      "text/plain": [
       "<matplotlib.figure.Figure at 0x11e50db70>"
      ]
     },
     "metadata": {},
     "output_type": "display_data"
    }
   ],
   "source": [
    "df15s.groupby('RegionDescription')['TotalPaid'].mean().sort_values(ascending=False).head(10).plot(kind='bar')"
   ]
  },
  {
   "cell_type": "code",
   "execution_count": 42,
   "metadata": {},
   "outputs": [
    {
     "data": {
      "text/plain": [
       "<matplotlib.axes._subplots.AxesSubplot at 0x11dd9cda0>"
      ]
     },
     "execution_count": 42,
     "metadata": {},
     "output_type": "execute_result"
    },
    {
     "data": {
      "image/png": "[encoded data removed]",
      "text/plain": [
       "<matplotlib.figure.Figure at 0x11cef1710>"
      ]
     },
     "metadata": {},
     "output_type": "display_data"
    }
   ],
   "source": [
    "df15s.groupby('FacilityZIP')['TotalPaid'].mean().sort_values(ascending=False).head(10).plot(kind='bar')"
   ]
  },
  {
   "cell_type": "code",
   "execution_count": 25,
   "metadata": {},
   "outputs": [
    {
     "data": {
      "text/plain": [
       "0    0\n",
       "dtype: int64"
      ]
     },
     "execution_count": 25,
     "metadata": {},
     "output_type": "execute_result"
    }
   ],
   "source": [
    "df15s['NumberOfPeople'].mode()"
   ]
  },
  {
   "cell_type": "code",
   "execution_count": 49,
   "metadata": {},
   "outputs": [
    {
     "data": {
      "text/plain": [
       "TotalPaid    25.691212\n",
       "dtype: float64"
      ]
     },
     "execution_count": 49,
     "metadata": {},
     "output_type": "execute_result"
    }
   ],
   "source": [
    "df15s.loc[df15s['CustomerZIP']=='92121',['TotalPaid']].mean()"
   ]
  },
  {
   "cell_type": "code",
   "execution_count": 68,
   "metadata": {},
   "outputs": [
    {
     "data": {
      "text/plain": [
       "0    9710\n",
       "2    6197\n",
       "4    3263\n",
       "6    2527\n",
       "3    1865\n",
       "Name: NumberOfPeople, dtype: int64"
      ]
     },
     "execution_count": 68,
     "metadata": {},
     "output_type": "execute_result"
    }
   ],
   "source": [
    "df15s['NumberOfPeople'].value_counts().head() # The mode of 'NumberOfPeople' is 0 so more often than not, this field was not accounted for.\n"
   ]
  },
  {
   "cell_type": "code",
   "execution_count": null,
   "metadata": {
    "collapsed": true
   },
   "outputs": [],
   "source": [
    "df15s.groupby('CustomerCountry')['TotalPaid'].mean().sort_values(ascending=False).head(10).plot(kind='bar')\n"
   ]
  },
  {
   "cell_type": "code",
   "execution_count": 63,
   "metadata": {},
   "outputs": [
    {
     "data": {
      "text/plain": [
       "<matplotlib.axes._subplots.AxesSubplot at 0x11eb0e2e8>"
      ]
     },
     "execution_count": 63,
     "metadata": {},
     "output_type": "execute_result"
    },
    {
     "data": {
      "image/png": "[encoded data removed]",
      "text/plain": [
       "<matplotlib.figure.Figure at 0x11e69a9b0>"
      ]
     },
     "metadata": {},
     "output_type": "display_data"
    }
   ],
   "source": [
    "df15s.groupby('CustomerZIP')['TotalPaid'].sum().sort_values(ascending=False).head(20).plot(kind='bar')"
   ]
  },
  {
   "cell_type": "code",
   "execution_count": 30,
   "metadata": {},
   "outputs": [
    {
     "data": {
      "text/plain": [
       "<matplotlib.axes._subplots.AxesSubplot at 0x11b6cf940>"
      ]
     },
     "execution_count": 30,
     "metadata": {},
     "output_type": "execute_result"
    },
    {
     "data": {
      "image/png": "[encoded data removed]",
      "text/plain": [
       "<matplotlib.figure.Figure at 0x11d0d49b0>"
      ]
     },
     "metadata": {},
     "output_type": "display_data"
    }
   ],
   "source": [
    "df15s.groupby('CustomerZIP')['TotalPaid'].mean().sort_values(ascending=False).head(20).plot(kind='bar')"
   ]
  },
  {
   "cell_type": "code",
   "execution_count": 29,
   "metadata": {},
   "outputs": [
    {
     "data": {
      "text/plain": [
       "<matplotlib.axes._subplots.AxesSubplot at 0x11d0e6ef0>"
      ]
     },
     "execution_count": 29,
     "metadata": {},
     "output_type": "execute_result"
    },
    {
     "data": {
      "image/png": "[encoded data removed]",
      "text/plain": [
       "<matplotlib.figure.Figure at 0x11d0df4a8>"
      ]
     },
     "metadata": {},
     "output_type": "display_data"
    }
   ],
   "source": [
    "df15s.groupby('CustomerZIP')['TotalPaid'].sum().sort_values(ascending=False).head(20).plot(kind='bar')"
   ]
  },
  {
   "cell_type": "code",
   "execution_count": 69,
   "metadata": {},
   "outputs": [
    {
     "data": {
      "text/plain": [
       "USA    28537\n",
       "CAN      260\n",
       "DEU      182\n",
       "GBR       78\n",
       "FRA       70\n",
       "NLD       65\n",
       "AUS       57\n",
       "CHE       46\n",
       "BEL       21\n",
       "CZE       16\n",
       "Name: CustomerCountry, dtype: int64"
      ]
     },
     "execution_count": 69,
     "metadata": {},
     "output_type": "execute_result"
    }
   ],
   "source": [
    "df15s['CustomerCountry'].value_counts().head(10)"
   ]
  },
  {
   "cell_type": "code",
   "execution_count": 20,
   "metadata": {},
   "outputs": [
    {
     "data": {
      "image/png": "[encoded data removed]",
      "text/plain": [
       "<matplotlib.figure.Figure at 0x1418e28d0>"
      ]
     },
     "metadata": {},
     "output_type": "display_data"
    }
   ],
   "source": [
    "plt.show()"
   ]
  },
  {
   "cell_type": "code",
   "execution_count": 22,
   "metadata": {},
   "outputs": [
    {
     "data": {
      "text/plain": [
       "<matplotlib.axes._subplots.AxesSubplot at 0x11cee6550>"
      ]
     },
     "execution_count": 22,
     "metadata": {},
     "output_type": "execute_result"
    },
    {
     "data": {
      "image/png": "[encoded data removed]",
      "text/plain": [
       "<matplotlib.figure.Figure at 0x11d0ff5c0>"
      ]
     },
     "metadata": {},
     "output_type": "display_data"
    }
   ],
   "source": [
    "df15s.groupby('CustomerCountry')['TotalPaid'].mean().sort_values(ascending=False).head(10).plot(kind='bar')\n",
    "# Note that I took a sample of .01 so in this case, the number of customers from different countries \"CustomerCountry\" is very small in relation to the US.\n"
   ]
  },
  {
   "cell_type": "code",
   "execution_count": 23,
   "metadata": {
    "collapsed": true
   },
   "outputs": [],
   "source": [
    "#top_colors[:10].sort(ascending=0).plot(kind='barh')"
   ]
  }
 ],
 "metadata": {
  "kernelspec": {
   "display_name": "Python 3",
   "language": "python",
   "name": "python3"
  },
  "language_info": {
   "codemirror_mode": {
    "name": "ipython",
    "version": 3
   },
   "file_extension": ".py",
   "mimetype": "text/x-python",
   "name": "python",
   "nbconvert_exporter": "python",
   "pygments_lexer": "ipython3",
   "version": "3.6.2"
  }
 },
 "nbformat": 4,
 "nbformat_minor": 2
}
